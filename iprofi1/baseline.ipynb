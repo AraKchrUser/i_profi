{
 "cells": [
  {
   "cell_type": "code",
   "execution_count": 50,
   "metadata": {},
   "outputs": [],
   "source": [
    "import pandas as pd\n",
    "import matplotlib.pyplot as plt\n",
    "import seaborn as sns\n",
    "%matplotlib inline\n",
    "import tensorflow as tf\n",
    "from tensorflow import keras\n",
    "from tensorflow.keras import layers\n",
    "import sklearn\n",
    "import numpy as np\n",
    "from scipy.stats import boxcox\n",
    "\n",
    "# data load\n",
    "test = pd.read_csv('test.csv')\n",
    "Xy = pd.read_csv('train.csv')\n",
    "\n",
    "# anomaly detect\n",
    "from sklearn.ensemble import IsolationForest\n",
    "modelIsoF = IsolationForest(n_estimators=50, contamination='auto', max_features=1.0)\n",
    "\n",
    "# all float feature\n",
    "for col in Xy.loc[:, ['Depth', 'Porosity', 'Gross', 'Netpay', 'Permeability']].columns:\n",
    "    modelIsoF.fit(Xy[[col]])\n",
    "    Xy['anom'] = modelIsoF.predict(Xy[[col]])\n",
    "    Xy = Xy[Xy['anom'] != -1]\n",
    "\n",
    "Xy['Porosity'] = boxcox((Xy['Porosity'].apply(lambda x: 1/np.sqrt(x)).values), 0.5)\n",
    "Xy['Depth'] = boxcox((Xy['Depth'].apply(lambda x: 1/np.sqrt(x)).values), 7)\n",
    "Xy['Permeability'] = boxcox((Xy['Permeability'].apply(lambda x: 1/np.sqrt(x)).values), 2)\n",
    "Xy['Netpay'] = boxcox((Xy['Netpay'].apply(lambda x: 1/np.sqrt(x)).values), 4)\n",
    "Xy['Gross'] = boxcox((Xy['Gross'].apply(lambda x: 1/np.sqrt(x)).values), 4)\n",
    "\n",
    "Xy['Onshore/Offshore'].value_counts()\n",
    "y = Xy['Onshore/Offshore'].map({'OFFSHORE':0, 'ONSHORE':1, 'ONSHORE-OFFSHORE':2}).values\n",
    "X = Xy.loc[:, ['Depth', 'Porosity', 'Gross', 'Netpay', 'Permeability']].values\n",
    "\n",
    "\n",
    "test['Porosity'] = boxcox((test['Porosity'].apply(lambda x: 1/np.sqrt(x)).values), 0.5)\n",
    "test['Depth'] = boxcox((test['Depth'].apply(lambda x: 1/np.sqrt(x)).values), 7)\n",
    "test['Permeability'] = boxcox((test['Permeability'].apply(lambda x: 1/np.sqrt(x)).values), 2)\n",
    "test['Netpay'] = boxcox((test['Netpay'].apply(lambda x: 1/np.sqrt(x)).values), 4)\n",
    "test['Gross'] = boxcox((test['Gross'].apply(lambda x: 1/np.sqrt(x)).values), 4)\n",
    "test = test.loc[:, ['Depth', 'Porosity', 'Gross', 'Netpay', 'Permeability']].values\n",
    "#?\n",
    "# select best feature\n",
    "#from sklearn.feature_selection import SelectKBest\n",
    "#from sklearn.feature_selection import chi2\n",
    "#select = SelectKBest(chi2, k=2)\n",
    "#x = select.fit(df_ctr.values, y)\n",
    "\n",
    "\n",
    "i_0 = np.where(y==0)[0]\n",
    "i_1 = np.where(y==1)[0]\n",
    "i_2 = np.where(y==2)[0]\n",
    "n_0 = len(i_0)\n",
    "n_1 = len(i_1)\n",
    "n_2 = len(i_2)\n",
    "up_2 = np.random.choice(i_2, size=n_0, replace=True)\n",
    "y = np.concatenate((np.concatenate((y[up_2], y[i_1])), y[i_0]))\n",
    "X = np.vstack((np.vstack((X[up_2,:], X[i_1])), X[i_0]))\n",
    "\n",
    "\n",
    "\n",
    "# test train\n",
    "from sklearn.model_selection import train_test_split\n",
    "X_train, X_test, y_train, y_test =  X, test, y, 0 # train_test_split(X, y, test_size=0.33, random_state=42) #\n",
    "\n",
    "\n",
    "\n",
    "# standartize befor selectKBest!!!!!!!!&&&&?????????????????\n",
    "from sklearn.preprocessing import StandardScaler\n",
    "scaler = StandardScaler()\n",
    "scaler.fit(X_train)\n",
    "X_train = scaler.transform(X_train)\n",
    "X_test = scaler.transform(X_test)\n",
    "\n",
    "\n",
    "from sklearn.naive_bayes import GaussianNB\n",
    "from sklearn.model_selection import cross_val_score, LeaveOneOut\n",
    "\n",
    "model = GaussianNB()\n",
    "model.fit(X_train, y_train)\n",
    "from sklearn.metrics import accuracy_score, balanced_accuracy_score\n",
    "# balanced_accuracy_score(y_test, model.predict(X_test))\n",
    "\n",
    "ser = pd.Series(model.predict(X_test)).map({0:'OFFSHORE', 1:'ONSHORE', 2:'ONSHORE-OFFSHORE'})\n",
    "ser.to_csv('answerbest.csv', index=False)"
   ]
  },
  {
   "cell_type": "code",
   "execution_count": 48,
   "metadata": {},
   "outputs": [
    {
     "data": {
      "text/plain": [
       "0.8095238095238095"
      ]
     },
     "execution_count": 48,
     "metadata": {},
     "output_type": "execute_result"
    }
   ],
   "source": [
    "\n",
    "accuracy_score(y_test, model.predict(X_test))"
   ]
  },
  {
   "cell_type": "code",
   "execution_count": null,
   "metadata": {},
   "outputs": [],
   "source": []
  },
  {
   "cell_type": "code",
   "execution_count": null,
   "metadata": {},
   "outputs": [],
   "source": []
  },
  {
   "cell_type": "code",
   "execution_count": null,
   "metadata": {},
   "outputs": [],
   "source": []
  },
  {
   "cell_type": "code",
   "execution_count": 27,
   "metadata": {},
   "outputs": [
    {
     "data": {
      "text/plain": [
       "array([0, 1, 1, 1, 1, 0, 1, 0, 0, 1, 1, 1, 0, 0, 1, 0, 1, 0, 1, 1, 1, 1,\n",
       "       0, 0, 0, 1, 0, 1, 0, 1, 1, 1, 1, 0, 0, 1, 1, 1, 1, 1, 1, 0, 1, 0,\n",
       "       2, 1, 1, 1, 1, 1, 1, 1, 1, 1, 1, 1, 0, 1, 1, 0, 1, 1, 1, 1, 1, 1,\n",
       "       1, 1, 0, 1, 1, 0, 1, 1, 1, 1, 1, 1, 0, 1, 1, 2, 1, 1, 0, 1, 1, 1,\n",
       "       1, 0, 1, 1, 1, 0, 1, 1, 1, 1, 1, 1, 1, 0, 1, 1, 1, 0])"
      ]
     },
     "execution_count": 27,
     "metadata": {},
     "output_type": "execute_result"
    }
   ],
   "source": [
    "y"
   ]
  },
  {
   "cell_type": "code",
   "execution_count": 28,
   "metadata": {},
   "outputs": [],
   "source": [
    "i_0 = np.where(y==0)[0]\n",
    "i_1 = np.where(y==1)[0]\n",
    "i_2 = np.where(y==2)[0]\n",
    "n_0 = len(i_0)\n",
    "n_1 = len(i_1)\n",
    "n_2 = len(i_2)"
   ]
  },
  {
   "cell_type": "code",
   "execution_count": 41,
   "metadata": {},
   "outputs": [
    {
     "data": {
      "text/plain": [
       "array([2, 2, 2, 2, 2, 2, 2, 2, 2, 2, 2, 2, 2, 2, 2, 2, 2, 2, 2, 2, 2, 2,\n",
       "       2, 2, 2, 2, 2, 1, 1, 1, 1, 1, 1, 1, 1, 1, 1, 1, 1, 1, 1, 1, 1, 1,\n",
       "       1, 1, 1, 1, 1, 1, 1, 1, 1, 1, 1, 1, 1, 1, 1, 1, 1, 1, 1, 1, 1, 1,\n",
       "       1, 1, 1, 1, 1, 1, 1, 1, 1, 1, 1, 1, 1, 1, 1, 1, 1, 1, 1, 1, 1, 1,\n",
       "       1, 1, 1, 1, 1, 1, 1, 1, 1, 1, 1, 1, 1, 1, 1, 1, 0, 0, 0, 0, 0, 0,\n",
       "       0, 0, 0, 0, 0, 0, 0, 0, 0, 0, 0, 0, 0, 0, 0, 0, 0, 0, 0, 0, 0])"
      ]
     },
     "execution_count": 41,
     "metadata": {},
     "output_type": "execute_result"
    }
   ],
   "source": [
    "up_2 = np.random.choice(i_2, size=n_0, replace=True)\n",
    "y = np.concatenate((np.concatenate((y[up_2], y[i_1])), y[i_0]))\n",
    "y"
   ]
  },
  {
   "cell_type": "code",
   "execution_count": 43,
   "metadata": {},
   "outputs": [],
   "source": [
    " X = np.vstack((np.vstack((X[up_2,:], X[i_1])), X[i_0]))"
   ]
  },
  {
   "cell_type": "code",
   "execution_count": null,
   "metadata": {},
   "outputs": [],
   "source": []
  },
  {
   "cell_type": "code",
   "execution_count": null,
   "metadata": {},
   "outputs": [],
   "source": []
  },
  {
   "cell_type": "code",
   "execution_count": null,
   "metadata": {},
   "outputs": [],
   "source": []
  },
  {
   "cell_type": "code",
   "execution_count": null,
   "metadata": {},
   "outputs": [],
   "source": []
  },
  {
   "cell_type": "code",
   "execution_count": null,
   "metadata": {},
   "outputs": [],
   "source": []
  },
  {
   "cell_type": "code",
   "execution_count": null,
   "metadata": {},
   "outputs": [],
   "source": []
  },
  {
   "cell_type": "code",
   "execution_count": null,
   "metadata": {},
   "outputs": [],
   "source": []
  },
  {
   "cell_type": "code",
   "execution_count": null,
   "metadata": {},
   "outputs": [],
   "source": []
  },
  {
   "cell_type": "code",
   "execution_count": null,
   "metadata": {},
   "outputs": [],
   "source": []
  },
  {
   "cell_type": "code",
   "execution_count": 1,
   "metadata": {},
   "outputs": [
    {
     "data": {
      "text/plain": [
       "RandomForestClassifier(class_weight='balanced_subsample', criterion='entropy',\n",
       "                       max_features='sqrt', n_estimators=45)"
      ]
     },
     "execution_count": 1,
     "metadata": {},
     "output_type": "execute_result"
    }
   ],
   "source": [
    "import pandas as pd\n",
    "import matplotlib.pyplot as plt\n",
    "import seaborn as sns\n",
    "%matplotlib inline\n",
    "import tensorflow as tf\n",
    "from tensorflow import keras\n",
    "from tensorflow.keras import layers\n",
    "import sklearn\n",
    "import numpy as np\n",
    "from scipy.stats import boxcox\n",
    "\n",
    "test = pd.read_csv('test.csv')\n",
    "Xy = pd.read_csv('train.csv')\n",
    "y = Xy['Onshore/Offshore'].map({'OFFSHORE':0, 'ONSHORE':1, 'ONSHORE-OFFSHORE':2}).values\n",
    "X = Xy.loc[:, ['Depth', 'Porosity', 'Gross', 'Netpay', 'Permeability']].values\n",
    "tst = test.loc[:, ['Depth', 'Porosity', 'Gross', 'Netpay', 'Permeability']].values\n",
    "\n",
    "i_0 = np.where(y==0)[0]\n",
    "i_1 = np.where(y==1)[0]\n",
    "i_2 = np.where(y==2)[0]\n",
    "n_0 = len(i_0)\n",
    "n_1 = len(i_1)\n",
    "n_2 = len(i_2)\n",
    "up_2 = np.random.choice(i_2, size=n_0, replace=True)\n",
    "y = np.concatenate((np.concatenate((y[up_2], y[i_1])), y[i_0]))\n",
    "X = np.vstack((np.vstack((X[up_2,:], X[i_1])), X[i_0]))\n",
    "\n",
    "\n",
    "from sklearn.model_selection import train_test_split\n",
    "X_train, X_test, y_train, y_test =  X, tst, y, 0 #train_test_split(X, y, test_size=0.33, random_state=42) #\n",
    "\n",
    "from sklearn.ensemble import RandomForestClassifier\n",
    "model_forest = RandomForestClassifier(bootstrap=True, class_weight='balanced_subsample',\n",
    "                                     criterion='entropy', max_features='sqrt', n_estimators=45,\n",
    "                                     oob_score=False, verbose=0)\n",
    "model_forest.fit(X_train, y_train)\n",
    "#balanced_accuracy_score(y_test, model_forest.predict(X_test))\n"
   ]
  },
  {
   "cell_type": "code",
   "execution_count": 5,
   "metadata": {},
   "outputs": [
    {
     "name": "stdout",
     "output_type": "stream",
     "text": [
      "CPU times: user 27.2 s, sys: 13.8 ms, total: 27.2 s\n",
      "Wall time: 27.4 s\n"
     ]
    },
    {
     "data": {
      "text/plain": [
       "0.803030303030303"
      ]
     },
     "execution_count": 5,
     "metadata": {},
     "output_type": "execute_result"
    }
   ],
   "source": [
    "from sklearn.model_selection import GridSearchCV\n",
    "param={'criterion': ['gini', 'entropy'], 'max_features': ['auto', 'sqrt', 'log2'], 'n_estimators': [45, 47, 50], 'class_weight': ['balanced_subsample', 'balanced']}\n",
    "grid = GridSearchCV(model_forest, param)\n",
    "%time grid.fit(X_train, y_train)\n",
    "model_forest = grid.best_estimator_\n",
    "from sklearn.metrics import accuracy_score, balanced_accuracy_score\n",
    "accuracy_score(y_test, model_forest.predict(X_test))"
   ]
  },
  {
   "cell_type": "code",
   "execution_count": 6,
   "metadata": {},
   "outputs": [
    {
     "data": {
      "text/plain": [
       "0.7722222222222221"
      ]
     },
     "execution_count": 6,
     "metadata": {},
     "output_type": "execute_result"
    }
   ],
   "source": [
    "balanced_accuracy_score(y_test, model_forest.predict(X_test))"
   ]
  },
  {
   "cell_type": "code",
   "execution_count": 7,
   "metadata": {},
   "outputs": [
    {
     "data": {
      "text/plain": [
       "{'class_weight': 'balanced',\n",
       " 'criterion': 'gini',\n",
       " 'max_features': 'auto',\n",
       " 'n_estimators': 50}"
      ]
     },
     "execution_count": 7,
     "metadata": {},
     "output_type": "execute_result"
    }
   ],
   "source": [
    "grid.best_params_"
   ]
  },
  {
   "cell_type": "code",
   "execution_count": 2,
   "metadata": {},
   "outputs": [],
   "source": [
    "ser = pd.Series(model_forest.predict(X_test)).map({0:'OFFSHORE', 1:'ONSHORE', 2:'ONSHORE-OFFSHORE'})\n",
    "ser.to_csv('answBEST.csv', index=False)"
   ]
  },
  {
   "cell_type": "code",
   "execution_count": null,
   "metadata": {},
   "outputs": [],
   "source": []
  },
  {
   "cell_type": "code",
   "execution_count": null,
   "metadata": {},
   "outputs": [],
   "source": []
  },
  {
   "cell_type": "code",
   "execution_count": null,
   "metadata": {},
   "outputs": [],
   "source": []
  },
  {
   "cell_type": "code",
   "execution_count": null,
   "metadata": {},
   "outputs": [],
   "source": []
  },
  {
   "cell_type": "code",
   "execution_count": null,
   "metadata": {},
   "outputs": [],
   "source": []
  },
  {
   "cell_type": "code",
   "execution_count": null,
   "metadata": {},
   "outputs": [],
   "source": []
  },
  {
   "cell_type": "code",
   "execution_count": null,
   "metadata": {},
   "outputs": [],
   "source": []
  }
 ],
 "metadata": {
  "kernelspec": {
   "display_name": "Python 3",
   "language": "python",
   "name": "python3"
  },
  "language_info": {
   "codemirror_mode": {
    "name": "ipython",
    "version": 3
   },
   "file_extension": ".py",
   "mimetype": "text/x-python",
   "name": "python",
   "nbconvert_exporter": "python",
   "pygments_lexer": "ipython3",
   "version": "3.8.7"
  }
 },
 "nbformat": 4,
 "nbformat_minor": 4
}
